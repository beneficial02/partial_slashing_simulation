{
 "cells": [
  {
   "cell_type": "markdown",
   "metadata": {},
   "source": [
    "## Partial slashing simulation\n",
    "You can jump to __Model 3__ and __Model 3'__ as they are the final models.  \n",
    "Model 1 and Model 2 are just simple models used for development progess."
   ]
  },
  {
   "cell_type": "code",
   "execution_count": 1,
   "metadata": {},
   "outputs": [],
   "source": [
    "from mesa import Agent, Model\n",
    "from mesa.time import RandomActivation\n",
    "import random\n",
    "import math\n",
    "import numpy as np\n",
    "import statistics as stats\n",
    "\n",
    "%matplotlib inline\n",
    "import matplotlib.pyplot as plt"
   ]
  },
  {
   "cell_type": "markdown",
   "metadata": {},
   "source": [
    "## Model 1\n",
    "* Nodes with more than 1500 ETH make pools, and the other nodes joins one of the pools"
   ]
  },
  {
   "cell_type": "code",
   "execution_count": 2,
   "metadata": {},
   "outputs": [],
   "source": [
    "class PartialSlashingModel(Model):\n",
    "    def __init__(self, num_users):\n",
    "        self.num_users = num_users\n",
    "        self.group = [0]\n",
    "        self.schedule = RandomActivation(self)\n",
    "        \n",
    "        self.prob_join_group = 0.8\n",
    "                \n",
    "        for i in range(self.num_users):\n",
    "            a = User(i, self)\n",
    "            self.schedule.add(a)\n",
    "    \n",
    "    def step(self):\n",
    "        self.schedule.step()\n",
    "        \n",
    "class User(Agent):\n",
    "    def __init__(self, unique_id, model):\n",
    "        super().__init__(unique_id, model)\n",
    "        self.group = 0\n",
    "        \n",
    "        if random.random() < 0.1:\n",
    "            self.balance = random.randrange(1500,50000)\n",
    "        else:\n",
    "            self.balance = random.randrange(1,1500)\n",
    "        \n",
    "    def step(self):\n",
    "        if self.group == 0:\n",
    "            if self.balance >= 1500:\n",
    "                # make a new pool\n",
    "                self.group = len(model.group)\n",
    "                self.model.group.append(self.group)\n",
    "\n",
    "            else:\n",
    "                #try to find a pool\n",
    "                if random.random() < self.model.prob_join_group:\n",
    "                    if len(self.model.group) != 0:\n",
    "                        self.group = random.randrange(1, len(model.group)+1)"
   ]
  },
  {
   "cell_type": "code",
   "execution_count": 3,
   "metadata": {},
   "outputs": [],
   "source": [
    "model = PartialSlashingModel(1000)"
   ]
  },
  {
   "cell_type": "code",
   "execution_count": 4,
   "metadata": {},
   "outputs": [],
   "source": [
    "for i in range(100):\n",
    "    model.step()"
   ]
  },
  {
   "cell_type": "code",
   "execution_count": 5,
   "metadata": {},
   "outputs": [
    {
     "name": "stdout",
     "output_type": "stream",
     "text": [
      "[0, 1, 2, 3, 4, 5, 6, 7, 8, 9, 10, 11, 12, 13, 14, 15, 16, 17, 18, 19, 20, 21, 22, 23, 24, 25, 26, 27, 28, 29, 30, 31, 32, 33, 34, 35, 36, 37, 38, 39, 40, 41, 42, 43, 44, 45, 46, 47, 48, 49, 50, 51, 52, 53, 54, 55, 56, 57, 58, 59, 60, 61, 62, 63, 64, 65, 66, 67, 68, 69, 70, 71, 72, 73, 74, 75, 76, 77, 78, 79, 80, 81, 82, 83, 84, 85, 86, 87, 88, 89, 90, 91, 92, 93, 94, 95, 96, 97, 98, 99, 100, 101, 102, 103, 104, 105, 106, 107, 108, 109, 110, 111, 112, 113]\n"
     ]
    }
   ],
   "source": [
    "print(model.group)"
   ]
  },
  {
   "cell_type": "code",
   "execution_count": 6,
   "metadata": {
    "scrolled": false
   },
   "outputs": [
    {
     "data": {
      "text/plain": [
       "(array([ 0., 45., 37., 29., 21., 18., 29., 15., 24., 20., 15., 13., 18.,\n",
       "        13., 16., 15., 17., 16., 11., 15., 18., 16., 10., 12., 10., 15.,\n",
       "        13., 12.,  5.,  9.,  9.,  9., 10., 16.,  6., 11., 11.,  6.,  9.,\n",
       "        13., 10.,  8.,  7.,  9., 10.,  9.,  9.,  5.,  5.,  5.,  8., 13.,\n",
       "         6.,  6.,  6.,  7.,  8.,  5.,  2.,  7., 12.,  8.,  6.,  3.,  7.,\n",
       "         8.,  7.,  8.,  6.,  4.,  6.,  5.,  5.,  4.,  9.,  3.,  8.,  4.,\n",
       "         4.,  5.,  4., 10.,  3.,  3.,  4.,  7.,  4.,  6.,  6.,  2.,  4.,\n",
       "         3.,  6.,  5.,  3.,  2.,  3.,  3.,  4.,  5.,  4.,  3.,  1.,  3.,\n",
       "         4.,  2.,  3.,  4.,  1.,  4.,  2.,  2.,  1.,  5.]),\n",
       " array([  0,   1,   2,   3,   4,   5,   6,   7,   8,   9,  10,  11,  12,\n",
       "         13,  14,  15,  16,  17,  18,  19,  20,  21,  22,  23,  24,  25,\n",
       "         26,  27,  28,  29,  30,  31,  32,  33,  34,  35,  36,  37,  38,\n",
       "         39,  40,  41,  42,  43,  44,  45,  46,  47,  48,  49,  50,  51,\n",
       "         52,  53,  54,  55,  56,  57,  58,  59,  60,  61,  62,  63,  64,\n",
       "         65,  66,  67,  68,  69,  70,  71,  72,  73,  74,  75,  76,  77,\n",
       "         78,  79,  80,  81,  82,  83,  84,  85,  86,  87,  88,  89,  90,\n",
       "         91,  92,  93,  94,  95,  96,  97,  98,  99, 100, 101, 102, 103,\n",
       "        104, 105, 106, 107, 108, 109, 110, 111, 112, 113, 114]),\n",
       " <a list of 114 Patch objects>)"
      ]
     },
     "execution_count": 6,
     "metadata": {},
     "output_type": "execute_result"
    },
    {
     "data": {
      "image/png": "[encoded data removed]",
      "text/plain": [
       "<Figure size 432x288 with 1 Axes>"
      ]
     },
     "metadata": {},
     "output_type": "display_data"
    }
   ],
   "source": [
    "%matplotlib inline\n",
    "import matplotlib.pyplot as plt\n",
    "\n",
    "user_group = [a.group for a in model.schedule.agents]\n",
    "plt.hist(user_group, bins=range(0,len(model.group)+1))"
   ]
  },
  {
   "cell_type": "markdown",
   "metadata": {},
   "source": [
    "## Model 2\n",
    "* implement interest rates, slashing condition, risk-taking traits\n",
    "* calculates slashing fraction assuming only one node gets slashed in the period\n",
    "* constant fault-occurence possibility"
   ]
  },
  {
   "cell_type": "code",
   "execution_count": 7,
   "metadata": {},
   "outputs": [],
   "source": [
    "class PartialSlashingModel(Model):\n",
    "    def __init__(self, num_users):\n",
    "        self.steps = 0\n",
    "        self.num_users = num_users\n",
    "        self.group = [0]\n",
    "        self.group_balance = [0]\n",
    "        self.schedule = RandomActivation(self)\n",
    "        self.interests_per_step = 2.378E-6\n",
    "        self.prob_join_group = 0.8\n",
    "        self.fault_possibility = 0\n",
    "                \n",
    "        for i in range(self.num_users):\n",
    "            a = User(i, self)\n",
    "            self.schedule.add(a)\n",
    "    \n",
    "    def step(self):\n",
    "        self.steps += 1\n",
    "        self.schedule.step()\n",
    "        \n",
    "        # to make pools for the initial stage\n",
    "        if self.fault_possibility == 0 and self.steps >= 100:\n",
    "            self.fault_possibility = 0.01\n",
    "\n",
    "            \n",
    "class User(Agent):\n",
    "    def __init__(self, unique_id, model):\n",
    "        super().__init__(unique_id, model)\n",
    "        self.group = 0\n",
    "    \n",
    "        if random.random() < 0.1:\n",
    "            self.balance = random.randrange(1500, 50000)\n",
    "        else:\n",
    "            self.balance = random.randrange(1,1500)\n",
    "            \n",
    "        # assume the risk-aversioness gets stronger as the balance is high\n",
    "        self.risk_taking_trait = min(random.uniform(0, 0.1) + 5/self.balance, 1)\n",
    "        \n",
    "        \n",
    "    def step(self):\n",
    "        if self.group == 0:\n",
    "            if self.balance >= 1500:\n",
    "                # make a new pool\n",
    "                self.group = len(model.group)\n",
    "                self.model.group.append(self.group)  # nodes with >1500ETH runs own pool.\n",
    "                self.model.group_balance.append(0)\n",
    "                self.model.group_balance[self.group] = self.balance\n",
    "\n",
    "            else:\n",
    "                # try to join a pool\n",
    "                if random.random() < self.model.prob_join_group:\n",
    "                    if len(self.model.group) > 1:\n",
    "                        system_total_deposits = sum(self.model.group_balance)\n",
    "                        \n",
    "                        # assume a node calculates the risk of a group only three times per step.\n",
    "                        for i in range(3):\n",
    "                            selected_group = random.randrange(1, len(model.group))\n",
    "                            possible_slashing_fraction = min(self.model.fault_possibility*3*model.group_balance[selected_group]/system_total_deposits, 1)\n",
    "                            \n",
    "                            if self.risk_taking_trait > possible_slashing_fraction:\n",
    "                                self.group = selected_group\n",
    "                                self.model.group_balance[self.group] += self.balance\n",
    "                        \n",
    "        else:\n",
    "            self.balance = self.balance*(1+model.interests_per_step)\n"
   ]
  },
  {
   "cell_type": "code",
   "execution_count": 8,
   "metadata": {},
   "outputs": [],
   "source": [
    "model = PartialSlashingModel(1000)\n",
    "for i in range(100):\n",
    "    model.step()"
   ]
  },
  {
   "cell_type": "code",
   "execution_count": 9,
   "metadata": {},
   "outputs": [
    {
     "data": {
      "text/plain": [
       "(array([ 0., 35., 60., 46., 36., 31., 27., 30., 23., 10., 28., 26., 19.,\n",
       "        27., 23., 19., 21., 25., 11., 19., 15., 15.,  7., 12., 11., 16.,\n",
       "         9.,  8., 10.,  9.,  8.,  7., 16.,  9., 12., 15.,  9., 14., 14.,\n",
       "        13.,  6.,  6.,  7.,  8., 14.,  9.,  9.,  8.,  7.,  6.,  7.,  6.,\n",
       "         7.,  4.,  5.,  4.,  9.,  3.,  4.,  9.,  7.,  4.,  5.,  6.,  5.,\n",
       "         5.,  8.,  1.,  1.,  4.,  8.,  6.,  4.,  2.,  6.,  2.,  4.,  5.,\n",
       "         4.,  5.,  1.,  3.,  2.,  4.,  2.,  1.,  2.,  3.,  3.,  4.]),\n",
       " array([ 0,  1,  2,  3,  4,  5,  6,  7,  8,  9, 10, 11, 12, 13, 14, 15, 16,\n",
       "        17, 18, 19, 20, 21, 22, 23, 24, 25, 26, 27, 28, 29, 30, 31, 32, 33,\n",
       "        34, 35, 36, 37, 38, 39, 40, 41, 42, 43, 44, 45, 46, 47, 48, 49, 50,\n",
       "        51, 52, 53, 54, 55, 56, 57, 58, 59, 60, 61, 62, 63, 64, 65, 66, 67,\n",
       "        68, 69, 70, 71, 72, 73, 74, 75, 76, 77, 78, 79, 80, 81, 82, 83, 84,\n",
       "        85, 86, 87, 88, 89, 90]),\n",
       " <a list of 90 Patch objects>)"
      ]
     },
     "execution_count": 9,
     "metadata": {},
     "output_type": "execute_result"
    },
    {
     "data": {
      "image/png": "[encoded data removed]",
      "text/plain": [
       "<Figure size 432x288 with 1 Axes>"
      ]
     },
     "metadata": {},
     "output_type": "display_data"
    }
   ],
   "source": [
    "%matplotlib inline\n",
    "import matplotlib.pyplot as plt\n",
    "\n",
    "user_group = [a.group for a in model.schedule.agents]\n",
    "plt.hist(user_group, bins=range(0,len(model.group)+1))"
   ]
  },
  {
   "cell_type": "code",
   "execution_count": 10,
   "metadata": {},
   "outputs": [
    {
     "data": {
      "text/plain": [
       "(array([1., 0., 0., 0., 0., 0., 0., 1., 0., 2., 1., 0., 2., 1., 1., 3., 0.,\n",
       "        0., 2., 0., 3., 0., 0., 1., 1., 1., 1., 2., 1., 4., 1., 0., 2., 0.,\n",
       "        0., 2., 2., 0., 2., 3., 3., 4., 1., 1., 0., 0., 1., 1., 3., 2., 0.,\n",
       "        1., 2., 1., 2., 1., 1., 3., 0., 0., 1., 3., 1., 2., 0., 2., 1., 1.,\n",
       "        0.]),\n",
       " array([    0,  1000,  2000,  3000,  4000,  5000,  6000,  7000,  8000,\n",
       "         9000, 10000, 11000, 12000, 13000, 14000, 15000, 16000, 17000,\n",
       "        18000, 19000, 20000, 21000, 22000, 23000, 24000, 25000, 26000,\n",
       "        27000, 28000, 29000, 30000, 31000, 32000, 33000, 34000, 35000,\n",
       "        36000, 37000, 38000, 39000, 40000, 41000, 42000, 43000, 44000,\n",
       "        45000, 46000, 47000, 48000, 49000, 50000, 51000, 52000, 53000,\n",
       "        54000, 55000, 56000, 57000, 58000, 59000, 60000, 61000, 62000,\n",
       "        63000, 64000, 65000, 66000, 67000, 68000, 69000]),\n",
       " <a list of 69 Patch objects>)"
      ]
     },
     "execution_count": 10,
     "metadata": {},
     "output_type": "execute_result"
    },
    {
     "data": {
      "image/png": "[encoded data removed]",
      "text/plain": [
       "<Figure size 432x288 with 1 Axes>"
      ]
     },
     "metadata": {},
     "output_type": "display_data"
    }
   ],
   "source": [
    "group_balances = [a for a in model.group_balance]\n",
    "plt.hist(group_balances, bins=np.arange(0,70000,1000))"
   ]
  },
  {
   "cell_type": "code",
   "execution_count": 11,
   "metadata": {},
   "outputs": [
    {
     "name": "stdout",
     "output_type": "stream",
     "text": [
      "total deposits: 4098675\n",
      "average deposits: 46052.52808988764\n",
      "median deposits: 41859\n",
      "-------------------------------------\n",
      "avg/sum: 1.1236%\n",
      "med/sum: 1.0213%\n",
      "-------------------------------------\n",
      "total num of users: 1000\n",
      "users not in a pool: 0\n",
      "number of pools: 89\n"
     ]
    }
   ],
   "source": [
    "total_dep = sum(model.group_balance[1:])\n",
    "avg_dep = sum(model.group_balance[1:])/(len(model.group[1:]))\n",
    "med_dep = stats.median(model.group_balance[1:])\n",
    "\n",
    "print(\"total deposits: {}\".format(total_dep))\n",
    "print(\"average deposits: {}\".format(avg_dep))\n",
    "print(\"median deposits: {}\".format(med_dep))\n",
    "print(\"-------------------------------------\")\n",
    "print(\"avg/sum: {:.4f}%\".format(avg_dep/total_dep*100))\n",
    "print(\"med/sum: {:.4f}%\".format(med_dep/total_dep*100))\n",
    "print(\"-------------------------------------\")\n",
    "print(\"total num of users: {}\".format(len(user_group)))\n",
    "print(\"users not in a pool: {}\".format(user_group.count(0)))\n",
    "print(\"number of pools: {}\".format(len(model.group[1:])))"
   ]
  },
  {
   "cell_type": "markdown",
   "metadata": {},
   "source": [
    "## Model 3\n",
    "* implement leaving the pool when the risk is too high(without withdrawal delay)\n",
    "* deprecated - people are prone to stay current pool(inertia)\n",
    "* doesn't leave the pool when the balance of the pool becomes under 1500ETH when the user leaves\n",
    "* users with > 1500ETH doesn't create pool always\n",
    "* change initial balance distribution"
   ]
  },
  {
   "cell_type": "code",
   "execution_count": 12,
   "metadata": {},
   "outputs": [],
   "source": [
    "class PartialSlashingModel(Model):\n",
    "    def __init__(self, num_users):\n",
    "        self.steps = 0\n",
    "        self.num_users = num_users\n",
    "        self.group = [0]\n",
    "        self.group_balance = [0]\n",
    "        self.schedule = RandomActivation(self)\n",
    "        self.interests_per_step = 2.378E-6\n",
    "        self.prob_join_group = 0.8\n",
    "        self.fault_possibility = 0\n",
    "                \n",
    "        for i in range(self.num_users):\n",
    "            a = User(i, self)\n",
    "            self.schedule.add(a)\n",
    "    \n",
    "    def step(self):\n",
    "        self.steps += 1\n",
    "        for i in range(len(self.group_balance)):\n",
    "            self.group_balance[i] = self.group_balance[i]*(1+self.interests_per_step)\n",
    "            \n",
    "        self.schedule.step()\n",
    "        \n",
    "        # to make pools for the initial stage\n",
    "        if self.fault_possibility == 0 and self.steps >= 1:\n",
    "            self.fault_possibility = 0.01\n",
    "\n",
    "            \n",
    "class User(Agent):\n",
    "    def __init__(self, unique_id, model):\n",
    "        super().__init__(unique_id, model)\n",
    "        self.group = 0\n",
    "        \n",
    "        rand_num_for_balance = random.random()\n",
    "        \n",
    "        if rand_num_for_balance < 0.001:\n",
    "            self.balance = random.randrange(3000, 10000)\n",
    "        elif rand_num_for_balance < 0.01:\n",
    "            self.balance = random.randrange(1500, 3000)\n",
    "        else:\n",
    "            self.balance = random.randrange(1,1500)\n",
    "            \n",
    "        # assume the risk-aversioness gets stronger as the balance is high\n",
    "        self.risk_taking_trait = min(random.uniform(0, 0.1) + 5/self.balance, 1)\n",
    "        \n",
    "    def try_to_join_a_pool(self):\n",
    "        if random.random() < self.model.prob_join_group:\n",
    "            if len(self.model.group) > 1:\n",
    "                system_total_deposits = sum(self.model.group_balance)\n",
    "\n",
    "                # assume a node calculates the risk of a group only three times per step.\n",
    "                for i in range(3):\n",
    "                    selected_group = random.randrange(1, len(self.model.group))\n",
    "                    \n",
    "                    possible_slashing_fraction = min(self.model.fault_possibility*3*self.model.group_balance[selected_group]/system_total_deposits, 1)\n",
    "\n",
    "                    if self.risk_taking_trait > possible_slashing_fraction:\n",
    "                        self.group = selected_group\n",
    "                        self.model.group_balance[self.group] += self.balance\n",
    "                        break\n",
    "        \n",
    "    def step(self):\n",
    "        if self.group == 0:\n",
    "            if self.balance >= 1500:\n",
    "                if random.random() < 0.1:\n",
    "                    # make a new pool\n",
    "                    self.group = len(self.model.group)\n",
    "                    self.model.group.append(self.group)  # nodes with >1500ETH runs own pool.\n",
    "                    self.model.group_balance.append(0)\n",
    "                    self.model.group_balance[self.group] = self.balance\n",
    "                else:\n",
    "                    self.try_to_join_a_pool()\n",
    "\n",
    "            else:\n",
    "                # try to join a pool\n",
    "                self.try_to_join_a_pool()\n",
    "                        \n",
    "        else:\n",
    "            self.balance = self.balance*(1+model.interests_per_step)\n",
    "            system_total_deposits = sum(self.model.group_balance)\n",
    "            \n",
    "            possible_slashing_fraction = min(self.model.fault_possibility*3*self.model.group_balance[self.group]/system_total_deposits, 1)\n",
    "            if self.risk_taking_trait < possible_slashing_fraction:\n",
    "                if self.model.group_balance[self.group] - self.balance >= 1500:\n",
    "                    self.model.group_balance[self.group] -= self.balance\n",
    "                    self.group = 0"
   ]
  },
  {
   "cell_type": "code",
   "execution_count": 13,
   "metadata": {
    "scrolled": true
   },
   "outputs": [
    {
     "name": "stdout",
     "output_type": "stream",
     "text": [
      "initialization finished\n",
      "step: 10\n",
      "step: 20\n",
      "step: 30\n",
      "step: 40\n",
      "step: 50\n",
      "step: 60\n",
      "step: 70\n",
      "step: 80\n",
      "step: 90\n",
      "simulation finished!\n"
     ]
    }
   ],
   "source": [
    "model = PartialSlashingModel(30000)\n",
    "print('initialization finished')\n",
    "user_groups = []\n",
    "\n",
    "for i in range(100):\n",
    "    if i % 10 == 0 and i != 0:\n",
    "        user_groups.append([a.group for a in model.schedule.agents])\n",
    "        print('step: {}'.format(i))\n",
    "    model.step()\n",
    "\n",
    "# store the final result too\n",
    "user_groups.append([a.group for a in model.schedule.agents])\n",
    "print('simulation finished!')"
   ]
  },
  {
   "cell_type": "code",
   "execution_count": 14,
   "metadata": {
    "scrolled": true
   },
   "outputs": [
    {
     "data": {
      "text/plain": [
       "(array([2661., 2202., 1997., 1676., 1383., 1388., 1390., 1292., 1143.,\n",
       "        1097., 1037., 1066., 1032.,  933.,  828.,  768.,  767.,  733.,\n",
       "         667.,  735.,  652.,  613.,  531.,  443.,  420.,  421.,  362.,\n",
       "         337.,  303.,  346.,  275.,  309.,  163.,   30.]),\n",
       " array([ 1,  2,  3,  4,  5,  6,  7,  8,  9, 10, 11, 12, 13, 14, 15, 16, 17,\n",
       "        18, 19, 20, 21, 22, 23, 24, 25, 26, 27, 28, 29, 30, 31, 32, 33, 34,\n",
       "        35]),\n",
       " <a list of 34 Patch objects>)"
      ]
     },
     "execution_count": 14,
     "metadata": {},
     "output_type": "execute_result"
    },
    {
     "data": {
      "image/png": "[encoded data removed]",
      "text/plain": [
       "<Figure size 432x288 with 1 Axes>"
      ]
     },
     "metadata": {},
     "output_type": "display_data"
    }
   ],
   "source": [
    "num_plots = len(user_groups)\n",
    "\n",
    "# fig = plt.figure(figsize=(num_plots*5, num_plots*2))\n",
    "\n",
    "# for i in range(1,num_plots+1):    \n",
    "#     plot = fig.add_subplot(2,5,i)\n",
    "#     plot.hist(user_groups[i-1], bins=range(1,len(model.group)+1))\n",
    "    \n",
    "plt.hist(user_groups[9], bins=range(1,len(model.group)+1))"
   ]
  },
  {
   "cell_type": "code",
   "execution_count": 15,
   "metadata": {
    "scrolled": true
   },
   "outputs": [
    {
     "data": {
      "text/plain": [
       "(array([2., 3., 6., 2., 4., 4., 3., 3., 1., 3., 1., 0., 0., 1., 1., 0., 0.,\n",
       "        0., 1., 0., 0., 0., 0., 0., 0., 0., 0., 0., 0., 0., 0., 0., 0., 0.,\n",
       "        0., 0., 0., 0., 0.]),\n",
       " array([0.   , 0.005, 0.01 , 0.015, 0.02 , 0.025, 0.03 , 0.035, 0.04 ,\n",
       "        0.045, 0.05 , 0.055, 0.06 , 0.065, 0.07 , 0.075, 0.08 , 0.085,\n",
       "        0.09 , 0.095, 0.1  , 0.105, 0.11 , 0.115, 0.12 , 0.125, 0.13 ,\n",
       "        0.135, 0.14 , 0.145, 0.15 , 0.155, 0.16 , 0.165, 0.17 , 0.175,\n",
       "        0.18 , 0.185, 0.19 , 0.195]),\n",
       " <a list of 39 Patch objects>)"
      ]
     },
     "execution_count": 15,
     "metadata": {},
     "output_type": "execute_result"
    },
    {
     "data": {
      "image/png": "[encoded data removed]",
      "text/plain": [
       "<Figure size 432x288 with 1 Axes>"
      ]
     },
     "metadata": {},
     "output_type": "display_data"
    }
   ],
   "source": [
    "total_dep = sum(model.group_balance[1:])\n",
    "group_balances = [a/total_dep for a in model.group_balance]\n",
    "plt.hist(group_balances, bins=np.arange(0,0.2,0.005))\n",
    "# plt.hist(group_balances, bins='auto')"
   ]
  },
  {
   "cell_type": "code",
   "execution_count": 16,
   "metadata": {},
   "outputs": [
    {
     "name": "stdout",
     "output_type": "stream",
     "text": [
      "total deposits: 23201279.235828362\n",
      "average deposits: 682390.5657596578\n",
      "median deposits: 590884.1604157616\n",
      "-------------------------------------\n",
      "avg/sum: 2.9412%\n",
      "med/sum: 2.5468%\n",
      "-------------------------------------\n",
      "largest deposit of a pool: 2089136.3546236895\n",
      "share of the largest pool: 9.0044%\n",
      "-------------------------------------\n",
      "total num of users: 30000\n",
      "users not in a pool: 0\n",
      "number of pools: 34\n",
      "users > 1500ETH: 288\n"
     ]
    }
   ],
   "source": [
    "total_dep = sum(model.group_balance[1:])\n",
    "avg_dep = sum(model.group_balance[1:])/(len(model.group[1:]))\n",
    "med_dep = stats.median(model.group_balance[1:])\n",
    "largest_dep = max(model.group_balance)\n",
    "\n",
    "user_balances = np.array([a.balance for a in model.schedule.agents])\n",
    "user_group = [a.group for a in model.schedule.agents]\n",
    "\n",
    "print(\"total deposits: {}\".format(total_dep))\n",
    "print(\"average deposits: {}\".format(avg_dep))\n",
    "print(\"median deposits: {}\".format(med_dep))\n",
    "print(\"-------------------------------------\")\n",
    "print(\"avg/sum: {:.4f}%\".format(avg_dep/total_dep*100))\n",
    "print(\"med/sum: {:.4f}%\".format(med_dep/total_dep*100))\n",
    "print(\"-------------------------------------\")\n",
    "print(\"largest deposit of a pool: {}\".format(largest_dep))\n",
    "print(\"share of the largest pool: {:.4f}%\".format(largest_dep/total_dep*100))\n",
    "print(\"-------------------------------------\")\n",
    "print(\"total num of users: {}\".format(len(user_group)))\n",
    "print(\"users not in a pool: {}\".format(user_group.count(0)))\n",
    "print(\"number of pools: {}\".format(len(model.group[1:])))\n",
    "print(\"users > 1500ETH: {}\".format(len(user_balances[user_balances>1500])))"
   ]
  },
  {
   "cell_type": "code",
   "execution_count": 17,
   "metadata": {
    "scrolled": true
   },
   "outputs": [
    {
     "name": "stdout",
     "output_type": "stream",
     "text": [
      "users > 1500\n",
      "[1501.3534096003646, 1506.3545868475344, 1511.3557640947038, 1514.356470443008, 1519.3576476901762, 1524.3588249373465, 1526.359295836213, 1532.3607085328185, 1532.3607085328185, 1532.3607085328185, 1538.362121229421, 1549.364711173196, 1553.36565297093, 1559.3670656675338, 1559.3670656675338, 1598.376248195458, 1605.377896341498, 1619.3811926335713, 1623.382134431308, 1631.3801386048103, 1632.3764898843963, 1633.3844889256466, 1639.385901622251, 1645.3873143188557, 1656.389904262628, 1666.3922587569673, 1666.3922587569673, 1672.393671453571, 1697.3995576894188, 1701.3964535663886, 1704.393099732236, 1706.3976189207885, 1706.4016767343264, 1709.402383082627, 1721.4052084758355, 1723.4056793747031, 1723.4056793747031, 1723.4056793747031, 1727.4066211724391, 1730.4073275207413, 1733.408033869042, 1744.410623812815, 1756.413449206022, 1769.4123023862103, 1770.4167454980998, 1771.4169809475322, 1773.4174518463988, 1775.4179227452676, 1777.4183936441364, 1790.4214544867773, 1810.426163475456, 1813.4182451963306, 1817.427811621495, 1829.4306370147012, 1830.4308724641353, 1841.4334624079102, 1845.4344042056457, 1847.4348751045131, 1847.4348751045131, 1848.4351105539472, 1852.4360523516834, 1855.4367586999842, 1856.4369941494188, 1869.4400549920601, 1872.440761340363, 1872.440761340363, 1875.4414676886634, 1880.442644935834, 1906.448766621117, 1911.449943868287, 1912.4501793177194, 1914.4506502165882, 1921.4477291599253, 1922.4525338120586, 1924.4530047109288, 1934.4553592052678, 1935.4555946547007, 1936.455830104135, 1937.4560655535706, 1943.4528567192788, 1959.4612454411154, 1961.4617163399832, 1970.4638353848898, 1974.4647771826264, 1975.46031498743, 1975.465012632059, 1976.4652480814925, 1984.4671316769663, 2014.4694047517396, 2019.4753724071531, 2020.4756078565874, 2030.4779623509276, 2032.4784332497945, 2047.481964991303, 2049.4824358901724, 2066.486438530546, 2077.4890284743246, 2088.4916184180984, 2107.496091957341, 2109.496562856208, 2110.4867608186737, 2113.4975046539453, 2114.4927118397113, 2116.4931779814697, 2116.498211002247, 2129.5012718448875, 2130.5015072943224, 2143.5045681369634, 2145.5050390358315, 2152.506687181869, 2160.508570777342, 2163.509277125644, 2164.504365383698, 2164.5095125750786, 2165.509748024511, 2165.509748024511, 2171.5111607211147, 2176.5123379682827, 2181.513515215453, 2183.5139861143216, 2184.50902680129, 2192.510891368327, 2192.510891368327, 2193.5163406086604, 2194.511357510086, 2197.5172824064, 2197.5172824064, 2198.517517855832, 2198.517517855832, 2209.5201077996053, 2217.5219913950764, 2217.5219913950764, 2223.518116565599, 2229.524816788285, 2231.5146745907414, 2232.5255231365877, 2243.528113080361, 2274.5354120128113, 2275.524825053309, 2275.535647462245, 2297.540827349791, 2304.542475495829, 2308.537927590373, 2319.5460072373385, 2334.549538978847, 2335.549774428283, 2351.5535416192256, 2354.554247967528, 2380.5547086937145, 2387.5620177988485, 2389.562488697716, 2392.56319504602, 2417.5690812818666, 2453.577557461489, 2454.5777929109227, 2455.566349672911, 2455.5780283603563, 2464.5801474052623, 2465.5803828546964, 2472.582031000735, 2473.570502134873, 2475.582737349035, 2478.577549639923, 2496.5876817871476, 2517.5866394042323, 2517.592626225261, 2520.5873386168732, 2520.5873386168732, 2522.5938034724322, 2522.5938034724322, 2526.5947452701685, 2528.589203183912, 2548.599925157716, 2550.5943307432663, 2563.603456899223, 2574.6060468429964, 2578.606988640733, 2580.6074595396026, 2585.6086367867715, 2587.609107685639, 2600.612168528281, 2606.607382712529, 2612.6149939214874, 2613.6152293709215, 2631.619467460733, 2642.6220574045055, 2645.6227637528086, 2645.6227637528086, 2649.6237055505426, 2655.618803185635, 2656.6253536965814, 2657.625589146016, 2658.6258245954505, 2666.6277081909216, 2669.6284145392215, 2674.6295917863927, 2675.6298272358263, 2675.6298272358263, 2678.6305335841284, 2684.6319462807332, 2688.632888078468, 2695.634536224504, 2696.634771673941, 2697.6350071233746, 2703.636419819977, 2725.641599707522, 2729.64254150526, 2734.6437187524307, 2746.6465441456385, 2758.642809486245, 2762.6503113365816, 2767.6514885837523, 2771.6524303814895, 2783.655255774694, 2787.6561975724308, 2788.656433021865, 2792.657374819601, 2798.6587875162018, 2824.664909201487, 2826.6586583060653, 2831.666557347523, 2832.666792796957, 2839.6684409429954, 2840.6686763924295, 2843.6693827407307, 2850.671030886769, 2851.6712663362023, 2856.672443583372, 2875.67007877917, 2877.677388021486, 2882.671710275329, 2890.680448864127, 2897.6820970101626, 2904.6768378346815, 2909.684922403372, 2916.6865705494115, 2930.689866841485, 2932.690337740352, 2943.6929276841274, 2952.695046729033, 2953.6952821784666, 2955.6957530773343, 2955.6957530773343, 2958.696459425636, 2960.696930324503, 2966.6983430211076, 2971.6924535836242, 2974.700226616579, 2975.6933858671414, 2978.701168414314, 2991.7042292569545, 2992.7044647063917, 2993.697581142977, 2998.7058774029933, 2999.684713050795, 3130.736956728277, 3548.8353745916706, 4159.969341788724, 4207.9905357686375, 4431.043040992414, 4661.097194362224, 4731.1136758225975, 5056.190196888633, 5270.240583067503, 5308.249530145991, 5733.349596155422, 5812.354374882003, 5943.3849071672485, 6020.417170142972, 6334.491101265231, 6597.553024466361, 6614.54129772753, 6892.622482049378, 6984.644143397301, 7400.742090361827, 7864.851338899184, 7994.862935541534, 8764.042167048034, 8828.078076704081, 8932.102563445216, 8996.117632208983, 9213.168724736151, 9223.171079230493, 9295.188031589729, 9501.236534173137, 9640.24633713866, 9705.261486745832, 9779.301989115766]\n",
      "group balances\n",
      "[0.0, 26321.073542015147, 129466.05759525957, 223659.20495529994, 225278.57569898918, 247942.91072155655, 250843.6077937825, 260490.86421824896, 290259.86021159875, 322495.45616805274, 335678.54453994153, 362237.77941733156, 438181.7401757408, 471200.47852664336, 495520.162059529, 504325.3177679996, 552839.7077022863, 589214.2692524651, 592554.051579058, 608421.7977520991, 635874.2629465685, 737813.174346587, 788366.1727849894, 796520.0534768576, 821339.932261006, 855523.0369556985, 871351.7227146202, 988155.2128457082, 1051131.0150853293, 1073017.1994264375, 1087010.459070046, 1269954.555186327, 1517733.84472314, 1691420.77970346, 2089136.3546236895]\n"
     ]
    }
   ],
   "source": [
    "user_balances = np.array([a.balance for a in model.schedule.agents])\n",
    "print('users > 1500')\n",
    "print(sorted(user_balances[user_balances>1500]))\n",
    "print('group balances')\n",
    "print(sorted([a for a in model.group_balance]))"
   ]
  },
  {
   "cell_type": "code",
   "execution_count": 18,
   "metadata": {},
   "outputs": [
    {
     "name": "stdout",
     "output_type": "stream",
     "text": [
      "simulation 0 finished!\n",
      "simulation 1 finished!\n",
      "simulation 2 finished!\n",
      "simulation 3 finished!\n",
      "simulation 4 finished!\n",
      "simulation 5 finished!\n",
      "simulation 6 finished!\n",
      "simulation 7 finished!\n",
      "simulation 8 finished!\n",
      "simulation 9 finished!\n"
     ]
    }
   ],
   "source": [
    "# do the simulation multiple times to get general result\n",
    "avg_sum_list = []\n",
    "med_sum_list = []\n",
    "largest_share_list = []\n",
    "\n",
    "for j in range(10):\n",
    "    _model = PartialSlashingModel(30000)\n",
    "    for i in range(100):\n",
    "        _model.step()\n",
    "    print('simulation {} finished!'.format(j))\n",
    "    \n",
    "    total_dep = sum(_model.group_balance[1:])\n",
    "    avg_dep = sum(_model.group_balance[1:])/(len(_model.group[1:]))\n",
    "    med_dep = stats.median(_model.group_balance[1:])\n",
    "    largest_dep = max(_model.group_balance)\n",
    "    \n",
    "    avg_sum = avg_dep/total_dep*100\n",
    "    med_sum = med_dep/total_dep*100\n",
    "    largest_share = largest_dep/total_dep*100\n",
    "    \n",
    "    avg_sum_list.append(avg_sum)\n",
    "    med_sum_list.append(med_sum)\n",
    "    largest_share_list.append(largest_share)"
   ]
  },
  {
   "cell_type": "code",
   "execution_count": 19,
   "metadata": {},
   "outputs": [
    {
     "name": "stdout",
     "output_type": "stream",
     "text": [
      "avg_sum_list\n",
      "[2.4390243902439024, 2.9411764705882355, 2.083333333333333, 3.571428571428571, 3.571428571428571, 2.631578947368421, 3.125, 3.0303030303030303, 2.857142857142857, 2.7027027027027026]\n",
      "med_sum_list\n",
      "[2.3074150780443583, 1.6385453735397477, 1.6647325319184132, 1.713248302303597, 2.8809741379497806, 1.3507509238604936, 2.6301331664863787, 1.8725335468494069, 2.01258549458041, 2.1769078820725594]\n",
      "largest_share_list\n",
      "[8.490009972863552, 12.536355975084343, 11.48339072411435, 21.33712254316676, 12.24784039084608, 12.545201383311225, 14.041289706622539, 15.366054465931786, 8.348649775211129, 12.218666389464682]\n"
     ]
    }
   ],
   "source": [
    "print(\"avg_sum_list\")\n",
    "print(avg_sum_list)\n",
    "\n",
    "print(\"med_sum_list\")\n",
    "print(med_sum_list)\n",
    "\n",
    "print(\"largest_share_list\")\n",
    "print(largest_share_list)"
   ]
  },
  {
   "cell_type": "code",
   "execution_count": 20,
   "metadata": {},
   "outputs": [
    {
     "data": {
      "text/plain": [
       "(array([0., 0., 0., 0., 0., 0., 0., 0., 0., 0., 0., 0., 0., 0., 0., 0., 2.,\n",
       "        0., 0., 0., 0., 0., 1., 0., 2., 2., 0., 0., 1., 0., 1., 0., 0., 0.,\n",
       "        0., 0., 0., 0., 0.]),\n",
       " array([ 0. ,  0.5,  1. ,  1.5,  2. ,  2.5,  3. ,  3.5,  4. ,  4.5,  5. ,\n",
       "         5.5,  6. ,  6.5,  7. ,  7.5,  8. ,  8.5,  9. ,  9.5, 10. , 10.5,\n",
       "        11. , 11.5, 12. , 12.5, 13. , 13.5, 14. , 14.5, 15. , 15.5, 16. ,\n",
       "        16.5, 17. , 17.5, 18. , 18.5, 19. , 19.5]),\n",
       " <a list of 39 Patch objects>)"
      ]
     },
     "execution_count": 20,
     "metadata": {},
     "output_type": "execute_result"
    },
    {
     "data": {
      "image/png": "[encoded data removed]",
      "text/plain": [
       "<Figure size 432x288 with 1 Axes>"
      ]
     },
     "metadata": {},
     "output_type": "display_data"
    }
   ],
   "source": [
    "plt.hist(largest_share_list, bins=np.arange(0,20,0.5))"
   ]
  },
  {
   "cell_type": "code",
   "execution_count": 21,
   "metadata": {},
   "outputs": [
    {
     "name": "stdout",
     "output_type": "stream",
     "text": [
      "avg of avg: 2.8953118874539623\n",
      "avg of med: 2.0247826437605143\n",
      "avg of largest share: 12.861458132661644\n"
     ]
    }
   ],
   "source": [
    "print(\"avg of avg: {}\".format(sum(avg_sum_list) / len(avg_sum_list)))\n",
    "print(\"avg of med: {}\".format(sum(med_sum_list) / len(med_sum_list)))\n",
    "print(\"avg of largest share: {}\".format(sum(largest_share_list) / len(largest_share_list)))"
   ]
  },
  {
   "cell_type": "markdown",
   "metadata": {},
   "source": [
    "## Model 3'\n",
    "* users choose optimal pool (join the pool with the lowest deposit share)"
   ]
  },
  {
   "cell_type": "code",
   "execution_count": 22,
   "metadata": {},
   "outputs": [],
   "source": [
    "class PartialSlashingModelOptimal(Model):\n",
    "    def __init__(self, num_users):\n",
    "        self.steps = 0\n",
    "        self.num_users = num_users\n",
    "        self.group = [0]\n",
    "        self.group_balance = [0]\n",
    "        self.schedule = RandomActivation(self)\n",
    "        self.interests_per_step = 2.378E-6\n",
    "        self.prob_join_group = 0.8\n",
    "        self.fault_possibility = 0\n",
    "                \n",
    "        for i in range(self.num_users):\n",
    "            a = User(i, self)\n",
    "            self.schedule.add(a)\n",
    "    \n",
    "    def step(self):\n",
    "        self.steps += 1\n",
    "        for i in range(len(self.group_balance)):\n",
    "            self.group_balance[i] = self.group_balance[i]*(1+self.interests_per_step)\n",
    "        \n",
    "        self.schedule.step()\n",
    "        \n",
    "        # to make pools for the initial stage\n",
    "        if self.fault_possibility == 0 and self.steps >= 100:\n",
    "            self.fault_possibility = 0.01\n",
    "\n",
    "            \n",
    "class User(Agent):\n",
    "    def __init__(self, unique_id, model):\n",
    "        super().__init__(unique_id, model)\n",
    "        self.group = 0\n",
    "        \n",
    "        rand_num_for_balance = random.random()\n",
    "        \n",
    "        if rand_num_for_balance < 0.001:\n",
    "            self.balance = random.randrange(3000, 10000)\n",
    "        elif rand_num_for_balance < 0.01:\n",
    "            self.balance = random.randrange(1500, 3000)\n",
    "        else:\n",
    "            self.balance = random.randrange(1,1500)\n",
    "            \n",
    "        # assume the risk-aversioness gets stronger as the balance is high\n",
    "        self.risk_taking_trait = min(random.uniform(0, 0.1) + 5/self.balance, 1)\n",
    "        \n",
    "    def try_to_join_a_pool(self):\n",
    "        if random.random() < self.model.prob_join_group:\n",
    "            if len(self.model.group) > 1:\n",
    "                system_total_deposits = sum(self.model.group_balance)\n",
    "                \n",
    "                if len(self.model.group_balance) > 1:\n",
    "                    lowest_share_group = np.argmin(np.array(self.model.group_balance[1:])) + 1 # to avoid group 0\n",
    "                    \n",
    "                    possible_slashing_fraction = min(self.model.fault_possibility*3*self.model.group_balance[lowest_share_group]/system_total_deposits, 1)\n",
    "\n",
    "                    if self.risk_taking_trait > possible_slashing_fraction:\n",
    "                        self.group = lowest_share_group\n",
    "                        self.model.group_balance[self.group] += self.balance\n",
    "        \n",
    "    def step(self):\n",
    "        if self.group == 0:\n",
    "            if self.balance >= 1500:\n",
    "                if random.random() < 0.1:\n",
    "                    # make a new pool\n",
    "                    self.group = len(self.model.group)\n",
    "                    self.model.group.append(self.group)  # nodes with >1500ETH runs own pool.\n",
    "                    self.model.group_balance.append(0)\n",
    "                    self.model.group_balance[self.group] = self.balance\n",
    "                else:\n",
    "                    self.try_to_join_a_pool()\n",
    "\n",
    "            else:\n",
    "                # try to join a pool\n",
    "                self.try_to_join_a_pool()\n",
    "                        \n",
    "        else:\n",
    "            self.balance = self.balance*(1+model.interests_per_step)\n",
    "            system_total_deposits = sum(self.model.group_balance)\n",
    "            \n",
    "            possible_slashing_fraction = min(self.model.fault_possibility*3*self.model.group_balance[self.group]/system_total_deposits, 1)\n",
    "            if self.risk_taking_trait < possible_slashing_fraction:\n",
    "                if self.model.group_balance[self.group] - self.balance >= 1500:\n",
    "                    self.model.group_balance[self.group] -= self.balance\n",
    "                    self.group = 0"
   ]
  },
  {
   "cell_type": "code",
   "execution_count": 23,
   "metadata": {},
   "outputs": [
    {
     "name": "stdout",
     "output_type": "stream",
     "text": [
      "initialization finished\n",
      "step: 10\n",
      "step: 20\n",
      "step: 30\n",
      "step: 40\n",
      "step: 50\n",
      "step: 60\n",
      "step: 70\n",
      "step: 80\n",
      "step: 90\n",
      "simulation finished!\n"
     ]
    }
   ],
   "source": [
    "model_opt = PartialSlashingModelOptimal(30000)\n",
    "print('initialization finished')\n",
    "user_groups_opt = []\n",
    "\n",
    "for i in range(100):\n",
    "    if i % 10 == 0 and i != 0:\n",
    "        user_groups_opt.append([a.group for a in model_opt.schedule.agents])\n",
    "        print('step: {}'.format(i))\n",
    "    model_opt.step()\n",
    "\n",
    "# store the final result too\n",
    "user_groups_opt.append([a.group for a in model_opt.schedule.agents])\n",
    "print('simulation finished!')\n"
   ]
  },
  {
   "cell_type": "code",
   "execution_count": 24,
   "metadata": {
    "scrolled": true
   },
   "outputs": [
    {
     "data": {
      "text/plain": [
       "(array([1611., 1599., 1598., 1531., 1572., 1576., 1571., 1563.,  908.,\n",
       "         912.,  951.,  916.,  866.,  846.,  857.,  820.,  872.,  844.,\n",
       "         861.,  870.,  848.,  867.,  866.,  850.,  874.,  874.,  842.,\n",
       "         835.]),\n",
       " array([ 1,  2,  3,  4,  5,  6,  7,  8,  9, 10, 11, 12, 13, 14, 15, 16, 17,\n",
       "        18, 19, 20, 21, 22, 23, 24, 25, 26, 27, 28, 29]),\n",
       " <a list of 28 Patch objects>)"
      ]
     },
     "execution_count": 24,
     "metadata": {},
     "output_type": "execute_result"
    },
    {
     "data": {
      "image/png": "[encoded data removed]",
      "text/plain": [
       "<Figure size 432x288 with 1 Axes>"
      ]
     },
     "metadata": {},
     "output_type": "display_data"
    }
   ],
   "source": [
    "num_plots = len(user_groups_opt)\n",
    "\n",
    "# fig_opt = plt.figure(figsize=(num_plots*5, num_plots*2))\n",
    "\n",
    "# for i in range(1,num_plots+1):    \n",
    "#     plot = fig_opt.add_subplot(2,5,i)\n",
    "#     plot.hist(user_groups_opt[i-1], bins=range(1,len(model_opt.group)+1))\n",
    "    \n",
    "plt.hist(user_groups_opt[9], bins=range(1,len(model_opt.group)+1))"
   ]
  },
  {
   "cell_type": "code",
   "execution_count": 25,
   "metadata": {},
   "outputs": [
    {
     "data": {
      "text/plain": [
       "(array([ 0.,  0.,  0.,  0.,  0., 16.,  4.,  0.,  0.,  0.,  8.,  0.,  0.,\n",
       "         0.,  0.,  0.,  0.,  0.,  0.,  0.,  0.,  0.,  0.,  0.,  0.,  0.,\n",
       "         0.,  0.,  0.,  0.,  0.,  0.,  0.,  0.,  0.,  0.,  0.,  0.,  0.]),\n",
       " array([0.   , 0.005, 0.01 , 0.015, 0.02 , 0.025, 0.03 , 0.035, 0.04 ,\n",
       "        0.045, 0.05 , 0.055, 0.06 , 0.065, 0.07 , 0.075, 0.08 , 0.085,\n",
       "        0.09 , 0.095, 0.1  , 0.105, 0.11 , 0.115, 0.12 , 0.125, 0.13 ,\n",
       "        0.135, 0.14 , 0.145, 0.15 , 0.155, 0.16 , 0.165, 0.17 , 0.175,\n",
       "        0.18 , 0.185, 0.19 , 0.195]),\n",
       " <a list of 39 Patch objects>)"
      ]
     },
     "execution_count": 25,
     "metadata": {},
     "output_type": "execute_result"
    },
    {
     "data": {
      "image/png": "[encoded data removed]",
      "text/plain": [
       "<Figure size 432x288 with 1 Axes>"
      ]
     },
     "metadata": {},
     "output_type": "display_data"
    }
   ],
   "source": [
    "total_dep = sum(model_opt.group_balance[1:])\n",
    "group_balances = [a/total_dep for a in model_opt.group_balance[1:]]\n",
    "plt.hist(group_balances, bins=np.arange(0,0.2,0.005))\n",
    "# plt.hist(group_balances, bins='auto')"
   ]
  },
  {
   "cell_type": "code",
   "execution_count": 26,
   "metadata": {},
   "outputs": [
    {
     "name": "stdout",
     "output_type": "stream",
     "text": [
      "total deposits: 23012375.970052045\n",
      "average deposits: 821870.5703590016\n",
      "median deposits: 655453.7205964301\n",
      "-------------------------------------\n",
      "avg/sum: 3.5714%\n",
      "med/sum: 2.8483%\n",
      "-------------------------------------\n",
      "largest deposit of a pool: 1212647.4499466484\n",
      "share of the largest pool: 5.2695%\n",
      "-------------------------------------\n",
      "total num of users: 30000\n",
      "users not in a pool: 0\n",
      "number of pools: 28\n",
      "users > 1500ETH: 281\n"
     ]
    }
   ],
   "source": [
    "total_dep = sum(model_opt.group_balance[1:])\n",
    "avg_dep = sum(model_opt.group_balance[1:])/(len(model_opt.group[1:]))\n",
    "med_dep = stats.median(model_opt.group_balance[1:])\n",
    "largest_dep = max(model_opt.group_balance)\n",
    "\n",
    "user_group = [a.group for a in model_opt.schedule.agents]\n",
    "user_balances = np.array([a.balance for a in model_opt.schedule.agents])\n",
    "\n",
    "print(\"total deposits: {}\".format(total_dep))\n",
    "print(\"average deposits: {}\".format(avg_dep))\n",
    "print(\"median deposits: {}\".format(med_dep))\n",
    "print(\"-------------------------------------\")\n",
    "print(\"avg/sum: {:.4f}%\".format(avg_dep/total_dep*100))\n",
    "print(\"med/sum: {:.4f}%\".format(med_dep/total_dep*100))\n",
    "print(\"-------------------------------------\")\n",
    "print(\"largest deposit of a pool: {}\".format(largest_dep))\n",
    "print(\"share of the largest pool: {:.4f}%\".format(largest_dep/total_dep*100))\n",
    "print(\"-------------------------------------\")\n",
    "print(\"total num of users: {}\".format(len(user_group)))\n",
    "print(\"users not in a pool: {}\".format(user_group.count(0)))\n",
    "print(\"number of pools: {}\".format(len(model_opt.group[1:])))\n",
    "print(\"users > 1500ETH: {}\".format(len(user_balances[user_balances>1500])))"
   ]
  },
  {
   "cell_type": "code",
   "execution_count": 27,
   "metadata": {
    "scrolled": true
   },
   "outputs": [
    {
     "name": "stdout",
     "output_type": "stream",
     "text": [
      "user balances >1500\n",
      "[1511.3557640947038, 1525.35906038678, 1529.3563653750796, 1529.3600021845166, 1534.3611794316853, 1535.357763800357, 1538.362121229421, 1547.3642402743274, 1550.3649466226288, 1555.366123869798, 1560.367301116968, 1560.367301116968, 1564.3682429147034, 1587.3736582516856, 1591.3746000494207, 1602.3771899931944, 1602.3771899931944, 1605.377896341498, 1609.3788381392328, 1629.3835471279106, 1632.3842534762132, 1634.3847243750813, 1640.386137071684, 1650.3845669515233, 1657.3822571926733, 1659.3906106109293, 1660.3908460603645, 1679.3953195996098, 1696.3993222399868, 1699.4000285882883, 1701.4004994871552, 1703.4009703860238, 1705.4014412848926, 1717.3920147743302, 1730.4073275207413, 1755.4132137565894, 1759.414155554325, 1771.4169809475322, 1777.4183936441364, 1786.4205126890427, 1807.4254571271551, 1808.421392150519, 1811.4263989248918, 1828.4304015652679, 1835.432049711307, 1837.4325206101732, 1845.4344042056457, 1848.4351105539472, 1855.4367586999842, 1862.4384068460224, 1864.4388777448905, 1868.439819542626, 1869.4400549920601, 1871.4405258909271, 1873.4409967897952, 1874.4412322392297, 1880.438173253858, 1888.4400378208954, 1888.4445285313054, 1890.4449994301729, 1899.4471184750787, 1903.4480602728145, 1906.448766621117, 1912.4501793177194, 1913.4504147671548, 1914.4506502165882, 1916.451121115456, 1919.451827463759, 1938.4563010030026, 1943.457478250172, 1951.4593618456452, 1952.4549543571968, 1959.4612454411154, 1983.4668962275312, 1986.4676025758326, 1986.4676025758326, 1987.4678380252665, 1988.4633449088667, 1990.4685443735682, 1996.4699570701723, 2001.4711343173417, 2005.472076115077, 2016.4746660588512, 2020.4659985088729, 2020.4756078565874, 2023.471502389656, 2024.476549654324, 2024.476549654324, 2025.4719685314162, 2025.4767851037575, 2035.4791395980965, 2035.4791395980965, 2049.4726885864757, 2050.482671339607, 2057.484319485644, 2063.485732182245, 2064.4859676316823, 2077.4890284743246, 2079.489499373192, 2085.4909120697953, 2104.4903811309123, 2111.4970337550767, 2120.499152799983, 2122.494576406748, 2129.5012718448875, 2137.4777407091515, 2140.503861788662, 2143.5045681369634, 2145.5050390358315, 2146.5052744852683, 2147.505509934698, 2161.503666171056, 2162.5090416762077, 2164.5095125750786, 2170.505763808973, 2171.505996879854, 2171.5111607211147, 2199.5177533052643, 2205.5191660018686, 2212.515552785921, 2216.521755945644, 2220.5226977433795, 2233.5257585860186, 2237.5267003837544, 2256.5258079046293, 2265.533292967905, 2269.534234765645, 2271.534705664511, 2276.535882911679, 2276.535882911679, 2284.5377665071505, 2285.538001956586, 2287.5275933612825, 2287.5384728554523, 2306.537461448614, 2307.5431818441334, 2308.537927590373, 2311.538626803014, 2319.54049137005, 2323.5469490350765, 2330.548597181112, 2337.5502453271506, 2338.5504807765865, 2342.5347108919536, 2344.5463181420437, 2344.551893473188, 2357.5549543158313, 2371.552611055793, 2373.558721506775, 2377.559663304507, 2379.548817055748, 2390.5570394025112, 2401.565314090925, 2402.565549540357, 2406.5664913380933, 2407.566726787526, 2409.5614677492244, 2411.5619338909855, 2412.567904034695, 2428.571671225642, 2439.568459875618, 2447.5761447648847, 2449.5766156637533, 2458.5787347086593, 2461.5794410569606, 2461.5794410569606, 2467.580853753566, 2467.580853753566, 2478.577549639923, 2478.583443697336, 2492.586739989415, 2496.5876817871476, 2497.5879172365812, 2501.582910270161, 2507.590271730923, 2514.591919876961, 2521.5935680229995, 2523.5820367514293, 2531.595922517334, 2538.5975706633744, 2540.592000034466, 2551.5945638141447, 2563.603456899223, 2567.604398696958, 2577.6067531913, 2577.6067531913, 2592.6102849328104, 2593.6043527910924, 2595.610991281112, 2596.605052003731, 2616.6159357192246, 2619.616642067526, 2619.616642067526, 2620.616877516963, 2620.616877516963, 2626.618290213563, 2648.6234701011113, 2662.6267663931844, 2664.6272372920553, 2665.6211338944304, 2673.62935633696, 2673.62935633696, 2676.630062685263, 2680.6246299576287, 2684.6319462807332, 2690.633358977337, 2698.6352425728082, 2701.635948921109, 2703.636419819977, 2712.638538864883, 2715.639245213185, 2728.642306055825, 2733.643483302997, 2737.6444251007306, 2741.63884728129, 2743.6458377973368, 2745.6463086962053, 2749.6472504939397, 2751.641177990085, 2765.644440982403, 2766.6512531343174, 2773.646305549442, 2773.646305549442, 2774.653136729788, 2780.654549426392, 2791.657139370166, 2802.659729313942, 2816.6630256060153, 2818.6634965048797, 2830.6663218980893, 2837.6612220857414, 2847.670324538468, 2855.6654173615766, 2880.678094369789, 2883.678800718089, 2887.679742515824, 2887.679742515824, 2888.6799779652574, 2892.6809197629973, 2893.6811552124286, 2896.6749732676426, 2898.682332459598, 2908.684686953941, 2910.6713146835727, 2925.6886895943153, 2928.6893959426184, 2948.6941049312986, 2953.6952821784666, 2954.695517627901, 2954.695517627901, 2956.6819265308063, 2962.6903559457046, 2967.6985784705407, 2972.6997557177124, 2974.700226616579, 2979.701403863748, 2983.702345661483, 2990.696881930337, 2994.7049356052594, 2995.705171054693, 2999.7061128524265, 3460.8064252438035, 3895.917075545251, 4304.013138914305, 5021.18195615845, 5042.186900596569, 5587.315220538068, 5697.341119975805, 5831.372670199951, 5883.3709229144615, 6643.563855140325, 6838.609767779939, 7702.813196090885, 7969.857108769539, 8224.936100695404, 8680.043230187843, 8779.045663111223, 9041.128227433506, 9099.14188350068, 9372.206161196153, 9653.272322487088]\n",
      "group balances\n",
      "[0.0, 654517.7147773713, 654518.7163519406, 654523.3529002689, 654539.3579685255, 654540.7218790888, 654618.7393664625, 654642.3822554885, 654763.7675079575, 654784.7757704648, 654830.7860540652, 654874.4314471664, 654920.3974731062, 654980.8178060369, 655374.9066342638, 655532.5345585964, 656380.131137502, 709482.0078152451, 709574.0294765928, 709617.0396009192, 709919.1107066476, 1211224.1149021022, 1211347.1438623832, 1211548.1911877196, 1211980.2929018755, 1212014.3009071567, 1212332.375780075, 1212346.3790763677, 1212647.4499466484]\n"
     ]
    }
   ],
   "source": [
    "user_balances = np.array([a.balance for a in model_opt.schedule.agents])\n",
    "print('user balances >1500')\n",
    "print(sorted(user_balances[user_balances>1500]))\n",
    "print('group balances')\n",
    "print(sorted([a for a in model_opt.group_balance]))"
   ]
  },
  {
   "cell_type": "code",
   "execution_count": 28,
   "metadata": {},
   "outputs": [
    {
     "name": "stdout",
     "output_type": "stream",
     "text": [
      "simulation 0 finished!\n",
      "simulation 1 finished!\n",
      "simulation 2 finished!\n",
      "simulation 3 finished!\n",
      "simulation 4 finished!\n",
      "simulation 5 finished!\n",
      "simulation 6 finished!\n",
      "simulation 7 finished!\n",
      "simulation 8 finished!\n",
      "simulation 9 finished!\n"
     ]
    }
   ],
   "source": [
    "# do the simulation multiple times to get general result\n",
    "avg_sum_list_opt = []\n",
    "med_sum_list_opt = []\n",
    "largest_share_list_opt = []\n",
    "\n",
    "for j in range(10):\n",
    "    _model = PartialSlashingModelOptimal(30000)\n",
    "    for i in range(100):\n",
    "        _model.step()\n",
    "    print('simulation {} finished!'.format(j))\n",
    "    \n",
    "    total_dep = sum(_model.group_balance[1:])\n",
    "    avg_dep = sum(_model.group_balance[1:])/(len(_model.group[1:]))\n",
    "    med_dep = stats.median(_model.group_balance[1:])\n",
    "    largest_dep = max(_model.group_balance)\n",
    "    \n",
    "    avg_sum = avg_dep/total_dep*100\n",
    "    med_sum = med_dep/total_dep*100\n",
    "    largest_share = largest_dep/total_dep*100\n",
    "    \n",
    "    avg_sum_list_opt.append(avg_sum)\n",
    "    med_sum_list_opt.append(med_sum)\n",
    "    largest_share_list_opt.append(largest_share)"
   ]
  },
  {
   "cell_type": "code",
   "execution_count": 29,
   "metadata": {},
   "outputs": [
    {
     "name": "stdout",
     "output_type": "stream",
     "text": [
      "avg_sum_list_opt\n",
      "[2.1739130434782608, 2.7027027027027026, 2.857142857142857, 3.7037037037037033, 3.3333333333333335, 2.631578947368421, 2.564102564102564, 2.272727272727273, 2.3255813953488373, 2.7027027027027026]\n",
      "med_sum_list_opt\n",
      "[2.3485188828361516, 2.8516936218447966, 3.0505689714017232, 3.1020418249856694, 2.8411214469001247, 2.6303094591207246, 2.777349381210662, 2.290743413672762, 2.165991718225454, 2.730051114929811]\n",
      "largest_share_listv\n",
      "[2.4038207483196494, 3.913289547653381, 3.055088684892145, 6.721602653128109, 5.7639146592515775, 2.665264096597721, 2.7814211853359407, 2.293892586612679, 6.311166387824652, 2.733600183866115]\n"
     ]
    }
   ],
   "source": [
    "print(\"avg_sum_list_opt\")\n",
    "print(avg_sum_list_opt)\n",
    "\n",
    "print(\"med_sum_list_opt\")\n",
    "print(med_sum_list_opt)\n",
    "\n",
    "print(\"largest_share_listv\")\n",
    "print(largest_share_list_opt)"
   ]
  },
  {
   "cell_type": "code",
   "execution_count": 30,
   "metadata": {},
   "outputs": [
    {
     "data": {
      "text/plain": [
       "(array([0., 0., 0., 0., 2., 3., 1., 1., 0., 0., 0., 1., 1., 1., 0., 0., 0.,\n",
       "        0., 0., 0., 0., 0., 0., 0., 0., 0., 0., 0., 0., 0., 0., 0., 0., 0.,\n",
       "        0., 0., 0., 0., 0.]),\n",
       " array([ 0. ,  0.5,  1. ,  1.5,  2. ,  2.5,  3. ,  3.5,  4. ,  4.5,  5. ,\n",
       "         5.5,  6. ,  6.5,  7. ,  7.5,  8. ,  8.5,  9. ,  9.5, 10. , 10.5,\n",
       "        11. , 11.5, 12. , 12.5, 13. , 13.5, 14. , 14.5, 15. , 15.5, 16. ,\n",
       "        16.5, 17. , 17.5, 18. , 18.5, 19. , 19.5]),\n",
       " <a list of 39 Patch objects>)"
      ]
     },
     "execution_count": 30,
     "metadata": {},
     "output_type": "execute_result"
    },
    {
     "data": {
      "image/png": "[encoded data removed]",
      "text/plain": [
       "<Figure size 432x288 with 1 Axes>"
      ]
     },
     "metadata": {},
     "output_type": "display_data"
    }
   ],
   "source": [
    "plt.hist(largest_share_list_opt, bins=np.arange(0,20,0.5))"
   ]
  },
  {
   "cell_type": "code",
   "execution_count": 31,
   "metadata": {},
   "outputs": [
    {
     "name": "stdout",
     "output_type": "stream",
     "text": [
      "avg of avg: 2.7267%\n",
      "avg of med: 2.6788%\n",
      "avg of largest share: 3.8643%\n"
     ]
    }
   ],
   "source": [
    "print(\"avg of avg: {:.4f}%\".format(sum(avg_sum_list_opt) / len(avg_sum_list_opt)))\n",
    "print(\"avg of med: {:.4f}%\".format(sum(med_sum_list_opt) / len(med_sum_list_opt)))\n",
    "print(\"avg of largest share: {:.4f}%\".format(sum(largest_share_list_opt) / len(largest_share_list_opt)))"
   ]
  },
  {
   "cell_type": "code",
   "execution_count": null,
   "metadata": {},
   "outputs": [],
   "source": []
  }
 ],
 "metadata": {
  "kernelspec": {
   "display_name": "Python 3",
   "language": "python",
   "name": "python3"
  },
  "language_info": {
   "codemirror_mode": {
    "name": "ipython",
    "version": 3
   },
   "file_extension": ".py",
   "mimetype": "text/x-python",
   "name": "python",
   "nbconvert_exporter": "python",
   "pygments_lexer": "ipython3",
   "version": "3.6.3"
  }
 },
 "nbformat": 4,
 "nbformat_minor": 2
}
